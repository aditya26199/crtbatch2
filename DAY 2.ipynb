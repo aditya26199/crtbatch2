{
 "cells": [
  {
   "cell_type": "markdown",
   "metadata": {},
   "source": [
    "# Functions:\n",
    "- code reuseablity\n",
    "- simpler\n",
    "- program can be divided into subprograms"
   ]
  },
  {
   "cell_type": "markdown",
   "metadata": {},
   "source": [
    "# Syntax:\n",
    "- def ........//it means a function .....a function always starts with a def \n",
    "- statements\n",
    "- return"
   ]
  },
  {
   "cell_type": "code",
   "execution_count": 9,
   "metadata": {},
   "outputs": [
    {
     "data": {
      "text/plain": [
       "6"
      ]
     },
     "execution_count": 9,
     "metadata": {},
     "output_type": "execute_result"
    }
   ],
   "source": [
    "#example function\n",
    "# sum of digits of given number\n",
    "\n",
    "\n",
    "def evenDigitSum(n):\n",
    "    s=0\n",
    "    while n!=0:\n",
    "        r=n%10                    #1234 %10 = 4\n",
    "        if r%2==0:\n",
    "            s=s+r\n",
    "        n=n//10              #1234//10 = 123 \n",
    "    return s\n",
    "evenDigitSum(1234)\n",
    "    "
   ]
  },
  {
   "cell_type": "code",
   "execution_count": 17,
   "metadata": {},
   "outputs": [
    {
     "name": "stdout",
     "output_type": "stream",
     "text": [
      "9\n"
     ]
    }
   ],
   "source": [
    "#input:19535\n",
    "#output: 9 (print the largest digits from the given numbers)\n",
    "\n",
    "\n",
    "def largestDigit(n):\n",
    "    l=0\n",
    "    while n!=0:\n",
    "        r=n%10\n",
    "        if l<r:\n",
    "            l=r\n",
    "        n=n//10\n",
    "    print(l)\n",
    "largestDigit(1975)    "
   ]
  },
  {
   "cell_type": "code",
   "execution_count": 33,
   "metadata": {},
   "outputs": [
    {
     "name": "stdout",
     "output_type": "stream",
     "text": [
      "1\n"
     ]
    }
   ],
   "source": [
    "#input:1975\n",
    "#output: 1 (print the smallest digits from the given numbers)\n",
    "\n",
    "\n",
    "def smallestDigit(n):\n",
    "    s=9\n",
    "    while n!=0:\n",
    "        r=n%10\n",
    "        if s>r:\n",
    "            s=r\n",
    "        n=n//10\n",
    "    print(s)\n",
    "smallestDigit(1975)    "
   ]
  },
  {
   "cell_type": "code",
   "execution_count": 37,
   "metadata": {},
   "outputs": [
    {
     "name": "stdout",
     "output_type": "stream",
     "text": [
      "502 504 506 508 510 512 514 516 518 520 "
     ]
    }
   ],
   "source": [
    "# function to print the alternate numbers\n",
    "# [500,520] ----502,504,.......518,520.\n",
    "\n",
    "\n",
    "def alternateNumbers(start,end):\n",
    "    for i in range(start+2,end+2,2):\n",
    "        print(i,end=\" \")\n",
    "alternateNumbers(500,520)"
   ]
  },
  {
   "cell_type": "markdown",
   "metadata": {},
   "source": [
    "# collection:\n",
    "- >list\n",
    "- >tuple\n",
    "- >set\n",
    "- >Dictionary\n",
    "\n",
    "\n",
    "# Lists:\n",
    "- list is one of the data structure in python\n",
    "- lists are enclosed in []\n",
    "- mixture of datatypes"
   ]
  },
  {
   "cell_type": "code",
   "execution_count": 40,
   "metadata": {},
   "outputs": [
    {
     "data": {
      "text/plain": [
       "list"
      ]
     },
     "execution_count": 40,
     "metadata": {},
     "output_type": "execute_result"
    }
   ],
   "source": [
    "li = [1,\"gitam\",\"python\",32.5]\n",
    "type(li)"
   ]
  },
  {
   "cell_type": "code",
   "execution_count": 51,
   "metadata": {},
   "outputs": [
    {
     "name": "stdout",
     "output_type": "stream",
     "text": [
      "1\n",
      "32.5\n",
      "['gitam', 'python']\n",
      "[1, 'gitam', 'python', 32.5]\n",
      "[1, 'python']\n",
      "[1, 32.5]\n",
      "['gitam']\n"
     ]
    }
   ],
   "source": [
    "print(li[0])\n",
    "print(li[-1])\n",
    "print(li[1:3])\n",
    "print(li[0:4])\n",
    "print(li[::2])\n",
    "print(li[::3])\n",
    "print(li[1::4])"
   ]
  },
  {
   "cell_type": "code",
   "execution_count": null,
   "metadata": {},
   "outputs": [],
   "source": []
  }
 ],
 "metadata": {
  "kernelspec": {
   "display_name": "Python 3",
   "language": "python",
   "name": "python3"
  },
  "language_info": {
   "codemirror_mode": {
    "name": "ipython",
    "version": 3
   },
   "file_extension": ".py",
   "mimetype": "text/x-python",
   "name": "python",
   "nbconvert_exporter": "python",
   "pygments_lexer": "ipython3",
   "version": "3.7.3"
  }
 },
 "nbformat": 4,
 "nbformat_minor": 2
}
